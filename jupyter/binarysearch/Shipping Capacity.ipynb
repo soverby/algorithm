{
 "cells": [
  {
   "cell_type": "markdown",
   "metadata": {},
   "source": [
    "# Shipping Capacity Problem\n",
    "\n",
    "Input: weights = [1,2,3,4,5,6,7,8,9,10], D = 5\n",
    "Output: 15\n",
    "Explanation: \n",
    "A ship capacity of 15 is the minimum to ship all the packages in 5 days like this:\n",
    "1st day: 1, 2, 3, 4, 5\n",
    "2nd day: 6, 7\n",
    "3rd day: 8\n",
    "4th day: 9\n",
    "5th day: 10\n",
    "\n",
    "Cargo must be shipped in the order given, so using a ship of capacity 14 and splitting the packages into parts like (2, 3, 4, 5), (1, 6, 7), (8), (9), (10) is not allowed. \n",
    "\n",
    "## Binary Search \n",
    "\n",
    "Binary Search on the inputs of low: minimum weight in the array, high: sum of all weights in the array.\n",
    "\n",
    "For each midpoint, determine if there is an exact fit"
   ]
  },
  {
   "cell_type": "code",
   "execution_count": 27,
   "metadata": {},
   "outputs": [
    {
     "name": "stdout",
     "output_type": "stream",
     "text": [
      "low_weight:  10 , high_weight:  55 , candidate_weight:  32\n",
      "Day  1  fit:  [1, 2, 3, 4, 5, 6, 7]\n",
      "Day  2  fit:  [8, 9, 10]\n",
      " fit:  True\n",
      "low_weight:  10 , high_weight:  32 , candidate_weight:  21\n",
      "Day  1  fit:  [1, 2, 3, 4, 5, 6]\n",
      "Day  2  fit:  [7, 8]\n",
      "Day  3  fit:  [9, 10]\n",
      " fit:  True\n",
      "low_weight:  10 , high_weight:  21 , candidate_weight:  15\n",
      "Day  1  fit:  [1, 2, 3, 4, 5]\n",
      "Day  2  fit:  [6, 7]\n",
      "Day  3  fit:  [8]\n",
      "Day  4  fit:  [9]\n",
      "Day  5  fit:  [10]\n",
      " fit:  True\n",
      "low_weight:  10 , high_weight:  15 , candidate_weight:  12\n",
      "Day  1  fit:  [1, 2, 3, 4]\n",
      "Day  2  fit:  [5, 6]\n",
      "Day  3  fit:  [7]\n",
      "Day  4  fit:  [8]\n",
      "Day  5  fit:  [9]\n",
      "Day  6  fit:  [10]\n",
      " fit:  False\n",
      "low_weight:  13 , high_weight:  15 , candidate_weight:  14\n",
      "Day  1  fit:  [1, 2, 3, 4]\n",
      "Day  2  fit:  [5, 6]\n",
      "Day  3  fit:  [7]\n",
      "Day  4  fit:  [8]\n",
      "Day  5  fit:  [9]\n",
      "Day  6  fit:  [10]\n",
      " fit:  False\n",
      "15\n"
     ]
    }
   ],
   "source": [
    "import math as m\n",
    "\n",
    "def capacity_test(array, days, max_weight):\n",
    "    # If I fill out each day up to max_weight days should equal days exactly\n",
    "    \n",
    "    actual_days = 1\n",
    "    accum_weight = 0\n",
    "    \n",
    "    # This is just for printing out how the binary search divides and conquers to the goal value.\n",
    "    day_arr = []\n",
    "    \n",
    "    for weight in array:\n",
    "        if accum_weight + weight > max_weight:\n",
    "            print(\"Day \", actual_days, \" fit: \", day_arr)\n",
    "            day_arr = []\n",
    "            accum_weight = weight\n",
    "            actual_days += 1\n",
    "            day_arr.append(weight)\n",
    "        else:\n",
    "            day_arr.append(weight)\n",
    "            accum_weight += weight\n",
    "            \n",
    "    print(\"Day \", actual_days, \" fit: \", day_arr)\n",
    "    \n",
    "    return actual_days <= days\n",
    "\n",
    "    \n",
    "def shipping_capacity_search(array, days):\n",
    "    \n",
    "    low_weight = -m.inf\n",
    "    high_weight = 0\n",
    "    \n",
    "    for ship_weight in array:\n",
    "        low_weight = ship_weight if ship_weight > low_weight else low_weight\n",
    "        high_weight += ship_weight\n",
    "    \n",
    "    # Binary Search\n",
    "    while(low_weight < high_weight): \n",
    "        # Note I had a nasty bug here because I was using m.ceil and not floor....\n",
    "        # it ended up biasing the algorithm higher which doesn't work when you want\n",
    "        # the high value to fall below low value \n",
    "        candidate_weight = low_weight + m.floor((high_weight - low_weight) / 2)\n",
    "                 \n",
    "        print(\"low_weight: \", low_weight, \", high_weight: \", high_weight, \", candidate_weight: \", candidate_weight)\n",
    "        \n",
    "        fit = capacity_test(array, days, candidate_weight)\n",
    "        \n",
    "        print(\" fit: \", fit)\n",
    "        \n",
    "        if fit:\n",
    "            high_weight = candidate_weight\n",
    "        else:\n",
    "            low_weight = candidate_weight + 1\n",
    "            \n",
    "    return low_weight\n",
    "        \n",
    "\n",
    "arr = [1,2,3,4,5,6,7,8,9,10]\n",
    "\n",
    "print(shipping_capacity_search(arr, 5))\n",
    "\n"
   ]
  },
  {
   "cell_type": "markdown",
   "metadata": {},
   "source": [
    "Input: weights = [3,2,2,4,1,4], D = 3\n",
    "Output: 6\n",
    "Explanation: \n",
    "A ship capacity of 6 is the minimum to ship all the packages in 3 days like this:\n",
    "1st day: 3, 2\n",
    "2nd day: 2, 4\n",
    "3rd day: 1, 4\n"
   ]
  },
  {
   "cell_type": "code",
   "execution_count": 28,
   "metadata": {},
   "outputs": [
    {
     "name": "stdout",
     "output_type": "stream",
     "text": [
      "low_weight:  4 , high_weight:  16 , candidate_weight:  10\n",
      "Day  1  fit:  [3, 2, 2]\n",
      "Day  2  fit:  [4, 1, 4]\n",
      " fit:  True\n",
      "low_weight:  4 , high_weight:  10 , candidate_weight:  7\n",
      "Day  1  fit:  [3, 2, 2]\n",
      "Day  2  fit:  [4, 1]\n",
      "Day  3  fit:  [4]\n",
      " fit:  True\n",
      "low_weight:  4 , high_weight:  7 , candidate_weight:  5\n",
      "Day  1  fit:  [3, 2]\n",
      "Day  2  fit:  [2]\n",
      "Day  3  fit:  [4, 1]\n",
      "Day  4  fit:  [4]\n",
      " fit:  False\n",
      "low_weight:  6 , high_weight:  7 , candidate_weight:  6\n",
      "Day  1  fit:  [3, 2]\n",
      "Day  2  fit:  [2, 4]\n",
      "Day  3  fit:  [1, 4]\n",
      " fit:  True\n",
      "6\n"
     ]
    }
   ],
   "source": [
    "array = [3, 2, 2, 4, 1, 4]\n",
    "\n",
    "print(shipping_capacity_search(array, 3))\n"
   ]
  },
  {
   "cell_type": "code",
   "execution_count": null,
   "metadata": {},
   "outputs": [],
   "source": []
  }
 ],
 "metadata": {
  "kernelspec": {
   "display_name": "Python 3",
   "language": "python",
   "name": "python3"
  },
  "language_info": {
   "codemirror_mode": {
    "name": "ipython",
    "version": 3
   },
   "file_extension": ".py",
   "mimetype": "text/x-python",
   "name": "python",
   "nbconvert_exporter": "python",
   "pygments_lexer": "ipython3",
   "version": "3.7.0"
  }
 },
 "nbformat": 4,
 "nbformat_minor": 4
}
