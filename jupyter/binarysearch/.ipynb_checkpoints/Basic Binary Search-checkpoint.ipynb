{
 "cells": [
  {
   "cell_type": "markdown",
   "metadata": {},
   "source": [
    "# Binary Search\n",
    "\n",
    "Search space must be sorted. O(log n) time complexity. \n",
    "\n",
    "Divde and conquer algorithm. Split the search space in half iteratively to find the key. \n",
    "\n",
    "\"Binary search can be used if and only if for all x in candidate Set S, predicate(x) implies predicate(y) for all y > x.\" - [from](https://algorithmsandme.com/first-occurrence-of-element/)\n",
    "\n",
    "\"If it is a sorted range of items and you know the upper and lower bound of your result, think binary search algorithm\" - [from](https://algorithmsandme.com/category/algorithms/search-algorithm/)\n",
    "\n",
    "\n",
    "Example problems:\n",
    "\n",
    "[first occurence](https://algorithmsandme.com/first-occurrence-of-element/), [last occurence](https://algorithmsandme.com/last-occurrence-of-element-with-binary-search/), [fitting problems](https://algorithmsandme.com/category/algorithms/search-algorithm/). \n",
    "\n",
    "## Basic Solution:\n"
   ]
  },
  {
   "cell_type": "code",
   "execution_count": 7,
   "metadata": {},
   "outputs": [
    {
     "name": "stdout",
     "output_type": "stream",
     "text": [
      "start:  0 , end:  9 , mid:  5\n",
      "start:  6 , end:  9 , mid:  8\n",
      "8\n"
     ]
    }
   ],
   "source": [
    "import math as m\n",
    "\n",
    "arr = [1, 2, 3, 4, 5, 6, 7, 8, 9]\n",
    "\n",
    "def binary_search(arr, key):\n",
    "    start = 0\n",
    "    end = len(arr)\n",
    "\n",
    "    while(start <= end):\n",
    "        mid = m.ceil(start + (end - start) / 2)\n",
    "    \n",
    "        print('start: ', start, ', end: ', end, ', mid: ', mid)\n",
    "        \n",
    "        if arr[mid] == key:\n",
    "            return mid\n",
    "        \n",
    "        if arr[mid] > key:\n",
    "            end = mid - 1\n",
    "        else:\n",
    "            start = mid + 1\n",
    "            \n",
    "    return -1\n",
    "\n",
    "found_index = binary_search(arr, 9)\n",
    "\n",
    "print('index:', found_index, ', value: ', arr[m])\n",
    "\n",
    "\n"
   ]
  },
  {
   "cell_type": "code",
   "execution_count": null,
   "metadata": {},
   "outputs": [],
   "source": []
  },
  {
   "cell_type": "code",
   "execution_count": null,
   "metadata": {},
   "outputs": [],
   "source": []
  }
 ],
 "metadata": {
  "kernelspec": {
   "display_name": "Python 3",
   "language": "python",
   "name": "python3"
  },
  "language_info": {
   "codemirror_mode": {
    "name": "ipython",
    "version": 3
   },
   "file_extension": ".py",
   "mimetype": "text/x-python",
   "name": "python",
   "nbconvert_exporter": "python",
   "pygments_lexer": "ipython3",
   "version": "3.7.0"
  }
 },
 "nbformat": 4,
 "nbformat_minor": 4
}
