{
 "cells": [
  {
   "cell_type": "markdown",
   "metadata": {},
   "source": [
    "# Find the Lowest Value in a Rotated Sorted Array\n",
    "\n",
    "This just looks like peak finding to me, except the boundary nodes aren't peaks...find the peak, least = array[peak_index + 1] if peak_index + 1 < n else array[0]\n",
    "\n",
    "Let's try it...\n"
   ]
  },
  {
   "cell_type": "code",
   "execution_count": 21,
   "metadata": {},
   "outputs": [
    {
     "name": "stdout",
     "output_type": "stream",
     "text": [
      "Collecting numpy\n",
      "  Downloading numpy-1.19.4-cp37-cp37m-macosx_10_9_x86_64.whl (15.3 MB)\n",
      "\u001b[K     |████████████████████████████████| 15.3 MB 22.9 MB/s eta 0:00:01    |█████████████████████████▎      | 12.1 MB 2.9 MB/s eta 0:00:02\n",
      "\u001b[?25hInstalling collected packages: numpy\n",
      "Successfully installed numpy-1.19.4\n",
      "\u001b[33mWARNING: You are using pip version 20.2.3; however, version 20.3.3 is available.\n",
      "You should consider upgrading via the '/Users/sean.overby/virtualenvs/jupyter/bin/python3 -m pip install --upgrade pip' command.\u001b[0m\n"
     ]
    }
   ],
   "source": [
    "!pip install numpy\n"
   ]
  },
  {
   "cell_type": "code",
   "execution_count": 29,
   "metadata": {},
   "outputs": [
    {
     "name": "stdout",
     "output_type": "stream",
     "text": [
      "-=-=-=-=-=-=-=-=-=-=-=-=-=-=-=-=-=-=\n",
      "iterations to complete: 2\n",
      "low_index:  0 , array value:  0\n",
      "-=-=-=-=-=-=-=-=-=-=-=-=-=-=-=-=-=-=\n",
      "iterations to complete: 3\n",
      "low_index:  5 , array value:  0\n",
      "-=-=-=-=-=-=-=-=-=-=-=-=-=-=-=-=-=-=\n",
      "iterations to complete: 2\n",
      "low_index:  3 , array value:  1\n",
      "-=-=-=-=-=-=-=-=-=-=-=-=-=-=-=-=-=-=\n",
      "iterations to complete: 2\n",
      "low_index:  1 , array value:  1\n",
      "-=-=-=-=-=-=-=-=-=-=-=-=-=-=-=-=-=-=\n",
      "iterations to complete: 16\n",
      "low_index:  50000 , array value:  0\n"
     ]
    }
   ],
   "source": [
    "import math as m\n",
    "import numpy as np\n",
    "\n",
    "\n",
    "def least_value(array):\n",
    "    print('')\n",
    "    print('-=-=-=-=-=-=-=-=-=-=-=-=-=-=-=-=-=-=')\n",
    "    start = 0\n",
    "    end = len(array) - 1\n",
    "    counter = 0\n",
    "\n",
    "    while abs(start - end) > 1:\n",
    "        mid = int(m.floor(start + (end - start) / 2))\n",
    "\n",
    "        if array[mid] > array[end]:\n",
    "            start = mid\n",
    "        else:\n",
    "            end = mid\n",
    "\n",
    "        counter += 1\n",
    "        \n",
    "    print('iterations to complete:', counter)\n",
    "    \n",
    "    return start if array[start] < array[end] else end\n",
    "\n",
    "            \n",
    "array = [0, 1, 2, 3, 4, 5, 6, 7]\n",
    "low_index = least_value(array)\n",
    "print('low_index: ', low_index, ', array value: ', array[low_index])\n",
    "\n",
    "array = [3, 4, 5, 6, 7, 0, 1, 2]\n",
    "low_index = least_value(array)\n",
    "print('low_index: ', low_index, ', array value: ', array[low_index])\n",
    "\n",
    "array = [3, 4, 5, 1, 2]\n",
    "low_index = least_value(array)\n",
    "print('low_index: ', low_index, ', array value: ', array[low_index])\n",
    "\n",
    "array = [5, 1, 2, 3, 4]\n",
    "low_index = least_value(array)\n",
    "print('low_index: ', low_index, ', array value: ', array[low_index])\n",
    "\n",
    "array = np.concatenate( (np.arange(49999, 99999, 1), np.arange(0, 50000, 1)))\n",
    "low_index = least_value(array)\n",
    "print('low_index: ', low_index, ', array value: ', array[low_index])\n",
    "\n",
    "\n",
    "\n",
    "\n"
   ]
  },
  {
   "cell_type": "code",
   "execution_count": null,
   "metadata": {},
   "outputs": [],
   "source": []
  }
 ],
 "metadata": {
  "kernelspec": {
   "display_name": "Python 3",
   "language": "python",
   "name": "python3"
  },
  "language_info": {
   "codemirror_mode": {
    "name": "ipython",
    "version": 3
   },
   "file_extension": ".py",
   "mimetype": "text/x-python",
   "name": "python",
   "nbconvert_exporter": "python",
   "pygments_lexer": "ipython3",
   "version": "3.7.0"
  }
 },
 "nbformat": 4,
 "nbformat_minor": 4
}
