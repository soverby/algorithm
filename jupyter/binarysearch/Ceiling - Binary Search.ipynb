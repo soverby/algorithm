{
 "cells": [
  {
   "cell_type": "markdown",
   "metadata": {},
   "source": [
    "# Find Ceiling of a value in a sort array using Binary Search\n",
    "\n",
    "Find the smallest element in array greater than or equal to _key_\n",
    "\n",
    "* At each mid-point, if the value is equal to the key"
   ]
  },
  {
   "cell_type": "code",
   "execution_count": 17,
   "metadata": {},
   "outputs": [],
   "source": [
    "import math as m\n",
    "\n",
    "def ceiling(arr, key):\n",
    "    start = 0\n",
    "    end = len(arr) - 1\n",
    "    \n",
    "    while(start <= end):\n",
    "        mid = m.ceil(start + (end - start) / 2)\n",
    "        \n",
    "#        print('key: ', key, 'start: ', start, ', end: ', end, ', mid: ', mid, ', arr[mid]: ', arr[mid])\n",
    "        \n",
    "        if arr[mid] == key:\n",
    "            return mid\n",
    "        elif arr[mid] > key:\n",
    "            if mid > 0 and arr[mid - 1] < key:\n",
    "                return mid\n",
    "            else:\n",
    "                end = mid - 1\n",
    "        else:\n",
    "            start = mid + 1\n",
    "    \n",
    "    return arr[mid] if arr[mid] > key else -1\n",
    "\n",
    "            "
   ]
  },
  {
   "cell_type": "code",
   "execution_count": 19,
   "metadata": {},
   "outputs": [
    {
     "name": "stdout",
     "output_type": "stream",
     "text": [
      "pointer:  -1 , arr[idx]:  22\n",
      "pointer:  1 , arr[idx]:  5\n",
      "pointer:  1 , arr[idx]:  5\n",
      "pointer:  3 , arr[idx]:  9\n",
      "pointer:  5 , arr[idx]:  16\n",
      "pointer:  7 , arr[idx]:  22\n"
     ]
    }
   ],
   "source": [
    "arr = [1, 5, 7, 9, 12, 16, 18, 22]\n",
    "\n",
    "keys = [23, 0, 3, 9, 15, 20]\n",
    "expected = [-1, 1, 1, 3, 5, 7]\n",
    "\n",
    "for key, expected in zip(keys, expected):\n",
    "    idx = ceiling(arr, key)\n",
    "    \n",
    "    if idx == expected:\n",
    "        print('pointer: ', idx, ', arr[idx]: ', arr[idx])\n",
    "    else:\n",
    "        print(' result ', idx, ', did not match expected: ', expected)\n",
    "        "
   ]
  },
  {
   "cell_type": "code",
   "execution_count": null,
   "metadata": {},
   "outputs": [],
   "source": []
  }
 ],
 "metadata": {
  "kernelspec": {
   "display_name": "Python 3",
   "language": "python",
   "name": "python3"
  },
  "language_info": {
   "codemirror_mode": {
    "name": "ipython",
    "version": 3
   },
   "file_extension": ".py",
   "mimetype": "text/x-python",
   "name": "python",
   "nbconvert_exporter": "python",
   "pygments_lexer": "ipython3",
   "version": "3.7.0"
  }
 },
 "nbformat": 4,
 "nbformat_minor": 4
}
