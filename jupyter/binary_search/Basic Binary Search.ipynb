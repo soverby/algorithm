{
 "cells": [
  {
   "cell_type": "markdown",
   "metadata": {},
   "source": [
    "# Binary Search\n",
    "\n",
    "Search space must be sorted. O(log n) time complexity. \n",
    "\n",
    "Divde and conquer algorithm. Split the search space in half iteratively to find the key. \n",
    "\n",
    "\"Binary search can be used if and only if for all x in candidate Set S, predicate(x) implies predicate(y) for all y > x.\" - [from](https://algorithmsandme.com/first-occurrence-of-element/)\n",
    "\n",
    "\"If it is a sorted range of items and you know the upper and lower bound of your result, think binary search algorithm\" - [from](https://algorithmsandme.com/category/algorithms/search-algorithm/)\n",
    "\n",
    "\n",
    "Example problems:\n",
    "\n",
    "[first occurence](https://algorithmsandme.com/first-occurrence-of-element/), [last occurence](https://algorithmsandme.com/last-occurrence-of-element-with-binary-search/), [fitting problems](https://algorithmsandme.com/category/algorithms/search-algorithm/). \n",
    "\n",
    "## Basic Solution:\n"
   ]
  },
  {
   "cell_type": "code",
   "execution_count": 2,
   "metadata": {},
   "outputs": [],
   "source": [
    "def binary_search(arr, key):\n",
    "    start = 0\n",
    "    end = len(arr) - 1\n",
    "\n",
    "    while(start <= end):\n",
    "        # note, important to use floor and not ceil or you'll never reach a state to finish. \n",
    "        mid = m.floor(start + (end - start) / 2)\n",
    "    \n",
    "        print('start: ', start, ', end: ', end, ', mid: ', mid)\n",
    "        \n",
    "        if arr[mid] == key:\n",
    "            return mid\n",
    "        \n",
    "        if arr[mid] > key:\n",
    "            end = mid - 1\n",
    "        else:\n",
    "            start = mid + 1\n",
    "            \n",
    "    return -1\n"
   ]
  },
  {
   "cell_type": "markdown",
   "metadata": {},
   "source": [
    "* If you are returning within the while loop use start <= end, if you are not returning from while loop, use start < end\n",
    "* Returning within the loop: start <= end\n",
    "* Not returning within the loop: start < end"
   ]
  },
  {
   "cell_type": "markdown",
   "metadata": {},
   "source": [
    "## Exercise Basic Solution"
   ]
  },
  {
   "cell_type": "code",
   "execution_count": 3,
   "metadata": {},
   "outputs": [
    {
     "name": "stdout",
     "output_type": "stream",
     "text": [
      "----------------------\n",
      "search for key:  0\n",
      "start:  0 , end:  8 , mid:  4\n",
      "start:  0 , end:  3 , mid:  1\n",
      "start:  0 , end:  0 , mid:  0\n",
      "not found\n",
      "----------------------\n",
      "search for key:  12\n",
      "start:  0 , end:  8 , mid:  4\n",
      "start:  5 , end:  8 , mid:  6\n",
      "start:  7 , end:  8 , mid:  7\n",
      "start:  8 , end:  8 , mid:  8\n",
      "not found\n",
      "----------------------\n",
      "search for key:  9\n",
      "start:  0 , end:  8 , mid:  4\n",
      "start:  5 , end:  8 , mid:  6\n",
      "start:  7 , end:  8 , mid:  7\n",
      "start:  8 , end:  8 , mid:  8\n",
      "index: 8 , value:  9\n",
      "----------------------\n",
      "search for key:  5\n",
      "start:  0 , end:  8 , mid:  4\n",
      "index: 4 , value:  5\n",
      "----------------------\n",
      "search for key:  3\n",
      "start:  0 , end:  8 , mid:  4\n",
      "start:  0 , end:  3 , mid:  1\n",
      "start:  2 , end:  3 , mid:  2\n",
      "index: 2 , value:  3\n"
     ]
    }
   ],
   "source": [
    "import math as m\n",
    "\n",
    "arr = [1, 2, 3, 4, 5, 6, 7, 8, 9]\n",
    "\n",
    "keys = [0, 12, 9, 5, 3]\n",
    "expected = [-1, -1, 8, 4, 2]\n",
    "\n",
    "for key, expected in zip(keys, expected):\n",
    "    \n",
    "    print('----------------------')\n",
    "    print('search for key: ', key)\n",
    "    found_index = binary_search(arr, key)\n",
    "\n",
    "    if(found_index > -1):\n",
    "        print('index:', found_index, ', value: ', arr[found_index])\n",
    "    else:\n",
    "        print('not found')\n",
    "        \n",
    "    if found_index != expected:\n",
    "        print(' **- expected result: ', expected, ' but function returned ', found_index, ' instead.')\n",
    "        "
   ]
  },
  {
   "cell_type": "code",
   "execution_count": null,
   "metadata": {},
   "outputs": [],
   "source": []
  }
 ],
 "metadata": {
  "kernelspec": {
   "display_name": "Python 3",
   "language": "python",
   "name": "python3"
  },
  "language_info": {
   "codemirror_mode": {
    "name": "ipython",
    "version": 3
   },
   "file_extension": ".py",
   "mimetype": "text/x-python",
   "name": "python",
   "nbconvert_exporter": "python",
   "pygments_lexer": "ipython3",
   "version": "3.8.6"
  }
 },
 "nbformat": 4,
 "nbformat_minor": 4
}
