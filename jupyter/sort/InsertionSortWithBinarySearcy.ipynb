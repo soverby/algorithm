{
 "cells": [
  {
   "cell_type": "markdown",
   "metadata": {},
   "source": [
    "# Insertion Sort with Binary Search\n",
    "\n",
    "Insertion Sort is O(n^2), adding binary search for the sorted portion reduces it to....what? :thinkingface:\n"
   ]
  },
  {
   "cell_type": "code",
   "execution_count": 1,
   "metadata": {},
   "outputs": [
    {
     "name": "stdout",
     "output_type": "stream",
     "text": [
      "[52, 67, 77, 87, 90, 99, 100]\n"
     ]
    }
   ],
   "source": [
    "import math as m\n",
    "\n",
    "\n",
    "class InsertionSort:\n",
    "\n",
    "    def element_swap(self, iarr, from_elem, to_elem):\n",
    "        tmp = iarr[from_elem]\n",
    "        iarr[from_elem] = iarr[to_elem]\n",
    "        iarr[to_elem] = tmp\n",
    "        return iarr\n",
    "\n",
    "    def swap_and_shift_right(self, iarr, from_elem, to_elem):\n",
    "        tmp = iarr[to_elem]\n",
    "        iarr[to_elem] = iarr[from_elem]\n",
    "        to_elem += 1\n",
    "\n",
    "        while to_elem <= from_elem:\n",
    "            otmp = iarr[to_elem]\n",
    "            iarr[to_elem] = tmp\n",
    "            tmp = otmp\n",
    "            to_elem += 1\n",
    "\n",
    "        return iarr\n",
    "\n",
    "    def binary_search(self, iarr, start, end, value):\n",
    "        mid = 0\n",
    "\n",
    "        while start <= end:\n",
    "            mid = m.floor(start + ((end - start) / 2))\n",
    "            # Find the mid point, compare the element at mid-point\n",
    "            # to the element at pointer - 1\n",
    "            # look to the right first, does our element fall between mid and mid + 1?\n",
    "            # if yes we're done.\n",
    "            # else 'look' to the left, if mid = 0\n",
    "            if iarr[mid] > value > iarr[mid - 1]:\n",
    "                return mid\n",
    "            elif iarr[mid] > value > iarr[mid - 1]:\n",
    "                return mid - 1\n",
    "            elif iarr[mid] < value:\n",
    "                start = mid + 1\n",
    "            else:\n",
    "                end = mid - 1\n",
    "\n",
    "        return mid\n",
    "\n",
    "    def insertion_sort(self, iarr):\n",
    "        pointer = 1\n",
    "\n",
    "        # Walk through each element of the array, starting at index 1 (second element)\n",
    "        while pointer < len(iarr):\n",
    "\n",
    "            # If the element being examined is < than the element to its left\n",
    "            # then the current element needs to be moved into the left hand\n",
    "            # sorted array\n",
    "            if iarr[pointer] < iarr[pointer - 1]:\n",
    "                if pointer - 1 == 0:\n",
    "                    iarr = self.element_swap(iarr, pointer, pointer - 1)\n",
    "                else:\n",
    "                    # Using binary search find where the element belongs\n",
    "                    # It will never belong off the right edge of the sorted sub-array\n",
    "                    # because it is already there.\n",
    "                    # it will belong either in position 0 or between two existing elements\n",
    "                    # Once we find where it goes shift right every element in the sorted array\n",
    "                    # so that we end with the element at position pointer - 1 now at position\n",
    "                    # pointer.\n",
    "                    insert_at = self.binary_search(iarr, 0, pointer - 1, iarr[pointer])\n",
    "                    iarr = self.swap_and_shift_right(iarr, pointer, insert_at)\n",
    "\n",
    "            pointer += 1\n",
    "\n",
    "        return iarr\n",
    "\n",
    "\n",
    "\n",
    "isort = InsertionSort()\n",
    "arr = [100, 90, 87, 52, 67, 77, 99]\n",
    "print(isort.insertion_sort(arr))\n",
    "\n",
    "\n",
    "            "
   ]
  },
  {
   "cell_type": "code",
   "execution_count": null,
   "metadata": {},
   "outputs": [],
   "source": []
  }
 ],
 "metadata": {
  "kernelspec": {
   "display_name": "Python 3",
   "language": "python",
   "name": "python3"
  },
  "language_info": {
   "codemirror_mode": {
    "name": "ipython",
    "version": 3
   },
   "file_extension": ".py",
   "mimetype": "text/x-python",
   "name": "python",
   "nbconvert_exporter": "python",
   "pygments_lexer": "ipython3",
   "version": "3.7.0"
  }
 },
 "nbformat": 4,
 "nbformat_minor": 4
}
