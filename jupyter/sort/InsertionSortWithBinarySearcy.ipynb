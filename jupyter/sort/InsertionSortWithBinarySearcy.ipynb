{
 "cells": [
  {
   "cell_type": "markdown",
   "metadata": {},
   "source": [
    "# Insertion Sort with Binary Search\n",
    "\n",
    "Insertion Sort is O(n^2), adding binary search for the sorted portion reduces it to....what? :thinkingface:\n"
   ]
  },
  {
   "cell_type": "code",
   "execution_count": 1,
   "metadata": {},
   "outputs": [
    {
     "name": "stdout",
     "output_type": "stream",
     "text": [
      "[5, 4, 3, 2, 1]\n"
     ]
    }
   ],
   "source": [
    "import math as m\n",
    "\n",
    "def insertion_sort_with_binary_search(in_array):\n",
    "    \n",
    "    if in_array == None or len(in_array) < 2:\n",
    "        return in_array\n",
    "    \n",
    "    pointer = 1\n",
    "    \n",
    "    while pointer < len(in_array):\n",
    "        \n",
    "        if in_array[pointer] > in_array[pointer - 1]:\n",
    "            start_idx = 0\n",
    "            end_idx = pointer - 1\n",
    "            \n",
    "            # start_idx to end_idx define the sorted array to binary search\n",
    "            while start_idx < end_idx:\n",
    "                mid_point = m.floor(start + (end - start) / 2)\n",
    "                \n",
    "                \n",
    "            \n",
    "            \n",
    "            \n",
    "        less_pointer = pointer - 1\n",
    "        \n",
    "        \n",
    "        while less_pointer >= 0 and in_array[less_pointer + 1] > in_array[less_pointer]:\n",
    "            tmp = in_array[less_pointer]\n",
    "            in_array[less_pointer] = in_array[less_pointer + 1]\n",
    "            in_array[less_pointer + 1] = tmp\n",
    "            less_pointer -= 1\n",
    "            \n",
    "        pointer += 1\n",
    "        \n",
    "    return in_array\n",
    "\n",
    "array = [1, 2, 3, 4, 5]\n",
    "print(insertion_sort_with_binary_search(array))\n",
    "\n",
    "\n",
    "            "
   ]
  },
  {
   "cell_type": "code",
   "execution_count": null,
   "metadata": {},
   "outputs": [],
   "source": []
  }
 ],
 "metadata": {
  "kernelspec": {
   "display_name": "Python 3",
   "language": "python",
   "name": "python3"
  },
  "language_info": {
   "codemirror_mode": {
    "name": "ipython",
    "version": 3
   },
   "file_extension": ".py",
   "mimetype": "text/x-python",
   "name": "python",
   "nbconvert_exporter": "python",
   "pygments_lexer": "ipython3",
   "version": "3.7.0"
  }
 },
 "nbformat": 4,
 "nbformat_minor": 4
}
