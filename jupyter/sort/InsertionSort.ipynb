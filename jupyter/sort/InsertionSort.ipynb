{
 "cells": [
  {
   "cell_type": "markdown",
   "metadata": {},
   "source": [
    "# Insertion Sort\n",
    "\n",
    "Your basic insertion sort. Second example uses binary search. This example is a desending sort. Enhancement: pass a lambda to allow the caller to define the order. "
   ]
  },
  {
   "cell_type": "code",
   "execution_count": 12,
   "metadata": {},
   "outputs": [
    {
     "name": "stdout",
     "output_type": "stream",
     "text": [
      "operation count on array of length 5 is 34\n",
      "operation count on array of length 5000 is 37497499\n",
      " ---- \n"
     ]
    }
   ],
   "source": [
    "import numpy as np\n",
    "\n",
    "def insertion_sort(array):\n",
    "    \n",
    "    op_cnt = 0\n",
    "    \n",
    "    if array == None or len(array) <= 1:\n",
    "        return array\n",
    "    \n",
    "    index = 1\n",
    "    \n",
    "    while index < len(array):\n",
    "\n",
    "        less_pointer = index - 1\n",
    "\n",
    "        op_cnt += 1\n",
    "        \n",
    "        while less_pointer >= 0 and array[less_pointer + 1] < array[less_pointer]:\n",
    "            tmp = array[less_pointer]\n",
    "            op_cnt += 1\n",
    "            array[less_pointer] = array[less_pointer + 1]\n",
    "            op_cnt += 1\n",
    "            array[less_pointer + 1] = tmp\n",
    "            op_cnt += 1\n",
    "            less_pointer -= 1\n",
    "\n",
    "        index += 1\n",
    "\n",
    "    print('operation count on array of length', len(array), 'is', op_cnt)\n",
    "    return array\n",
    "\n",
    "\n",
    "array = [5, 4, 3, 2, 1]\n",
    "insertion_sort(array)\n",
    "\n",
    "lg_array = list(np.arange(5000, 0, -1))\n",
    "insertion_sort(lg_array)\n",
    "\n",
    "print(' ---- ')        "
   ]
  },
  {
   "cell_type": "code",
   "execution_count": null,
   "metadata": {},
   "outputs": [],
   "source": [
    "\n",
    "            \n",
    "            "
   ]
  }
 ],
 "metadata": {
  "kernelspec": {
   "display_name": "Python 3",
   "language": "python",
   "name": "python3"
  },
  "language_info": {
   "codemirror_mode": {
    "name": "ipython",
    "version": 3
   },
   "file_extension": ".py",
   "mimetype": "text/x-python",
   "name": "python",
   "nbconvert_exporter": "python",
   "pygments_lexer": "ipython3",
   "version": "3.7.0"
  }
 },
 "nbformat": 4,
 "nbformat_minor": 4
}
