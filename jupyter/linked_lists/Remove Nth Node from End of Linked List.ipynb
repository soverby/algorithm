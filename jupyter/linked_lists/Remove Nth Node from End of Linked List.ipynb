{
 "cells": [
  {
   "cell_type": "markdown",
   "metadata": {},
   "source": [
    "# Remove Nth Node from End of List\n",
    "\n"
   ]
  },
  {
   "cell_type": "code",
   "execution_count": 33,
   "metadata": {},
   "outputs": [
    {
     "name": "stdout",
     "output_type": "stream",
     "text": [
      "2\n",
      "3\n",
      "--End--\n"
     ]
    }
   ],
   "source": [
    "class ListNode:\n",
    "    def __init__(self, x):\n",
    "        self.val = x\n",
    "        self.next = None\n",
    "        \n",
    "class Solution:\n",
    "    def removeNthFromEnd(self, head: ListNode, n: int) -> ListNode:\n",
    "\n",
    "        reverse_node = ListNode(head)\n",
    "\n",
    "        node_pointer = head\n",
    "        node_count = 1\n",
    "\n",
    "        while node_pointer.next != None:\n",
    "            node_pointer = node_pointer.next\n",
    "            node_count += 1\n",
    "            new_node = ListNode(node_pointer)\n",
    "            new_node.next = reverse_node\n",
    "            reverse_node = new_node\n",
    "\n",
    "        while n > 1:\n",
    "            reverse_node = reverse_node.next\n",
    "            n -= 1\n",
    "            \n",
    "        if reverse_node.next != None: \n",
    "            if reverse_node.val.next != None: \n",
    "                reverse_node.next.val.next = reverse_node.next.val.next.next\n",
    "            else:\n",
    "                reverse_node.next.val.next = None\n",
    "        elif reverse_node.val.next != None:\n",
    "            head = reverse_node.val.next\n",
    "        else:\n",
    "            head = None\n",
    "        \n",
    "        return head\n",
    "\n",
    "\n",
    "solution = Solution()\n",
    "\n",
    "list_nodes = [ListNode('1'), ListNode('2'), ListNode('3'), ListNode('4'), ListNode('5')]\n",
    "\n",
    "list_nodes[0].next = list_nodes[1]\n",
    "list_nodes[1].next = list_nodes[2]\n",
    "# list_nodes[2].next = list_nodes[3]\n",
    "# list_nodes[3].next = list_nodes[4]\n",
    "\n",
    "\n",
    "edited = solution.removeNthFromEnd(list_nodes[0], 3)\n",
    "\n",
    "while edited != None:\n",
    "    print(edited.val)\n",
    "    edited = edited.next\n",
    "else:\n",
    "    print('--End--')\n",
    "    \n",
    "\n",
    "\n",
    "            "
   ]
  },
  {
   "cell_type": "code",
   "execution_count": null,
   "metadata": {},
   "outputs": [],
   "source": []
  }
 ],
 "metadata": {
  "kernelspec": {
   "display_name": "Python 3",
   "language": "python",
   "name": "python3"
  },
  "language_info": {
   "codemirror_mode": {
    "name": "ipython",
    "version": 3
   },
   "file_extension": ".py",
   "mimetype": "text/x-python",
   "name": "python",
   "nbconvert_exporter": "python",
   "pygments_lexer": "ipython3",
   "version": "3.7.0"
  }
 },
 "nbformat": 4,
 "nbformat_minor": 4
}
