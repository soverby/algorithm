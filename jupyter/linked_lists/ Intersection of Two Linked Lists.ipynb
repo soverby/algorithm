{
 "cells": [
  {
   "cell_type": "markdown",
   "metadata": {},
   "source": [
    "# Intersection of Two Linked Lists\n",
    "\n",
    "Use the two pointer technique, begin each pointer at the head node of each list and increment the pointers one each. When both pointers are pointing to the same Node, then the intersection is found.\n",
    "\n",
    "When the lists are of unequal length, normalize the length of the lists by wrapping to the head of the opposite list when the end of a list is reached. Each pointer can only be wrapped once though, once they both reach the end with no merges then there is no intersection. \n",
    "\n",
    "![equal lengths](image/Intersection2LinkedListsEqualLength.png)\n",
    "\n",
    "![unequal lengths](image/Intersection2LinkedListsUnequalLength.png)\n",
    "\n"
   ]
  },
  {
   "cell_type": "code",
   "execution_count": 7,
   "metadata": {},
   "outputs": [
    {
     "name": "stdout",
     "output_type": "stream",
     "text": [
      "C5\n",
      "None\n",
      "C8\n"
     ]
    }
   ],
   "source": [
    "class ListNode:\n",
    "    def __init__(self, x):\n",
    "        self.val = x\n",
    "        self.next = None\n",
    "\n",
    "class Solution:\n",
    "    def getIntersectionNode(self, headA: ListNode, headB: ListNode) -> ListNode:\n",
    "        pointerA = headA\n",
    "        pointerB = headB\n",
    "        \n",
    "        wrapA = False\n",
    "        wrapB = False\n",
    "        \n",
    "        while pointerA != pointerB and pointerA != None and pointerB != None\n",
    "            \n",
    "            if wrapA and wrapB and pointerA.next == None and pointerB.next == None:\n",
    "                break\n",
    "                \n",
    "            if pointerA.next == None:\n",
    "                if not wrapA:\n",
    "                    pointerA = headB\n",
    "                    wrapA = True\n",
    "            else:\n",
    "                pointerA = pointerA.next\n",
    "                \n",
    "            if pointerB.next == None:\n",
    "                if not wrapB:\n",
    "                    pointerB = headA\n",
    "                    wrapB = True\n",
    "            else:\n",
    "                pointerB = pointerB.next\n",
    "                \n",
    "        return pointerA if pointerA == pointerB else None\n",
    "    \n",
    "    \n",
    "listANodes = [ListNode('A1'), ListNode('A2')]\n",
    "listBNodes = [ListNode('B1'), ListNode('B2'), ListNode('B3'), ListNode('B4')]\n",
    "listCNodes = [ListNode('C5'), ListNode('C6'), ListNode('C7'), ListNode('C8')]\n",
    "\n",
    "listCNodes[0].next = listCNodes[1]\n",
    "listCNodes[1].next = listCNodes[2]\n",
    "listCNodes[2].next = listCNodes[3]\n",
    "\n",
    "listANodes[0].next = listANodes[1]\n",
    "listANodes[1].next = listCNodes[0]\n",
    "\n",
    "listBNodes[0].next = listBNodes[1]\n",
    "listBNodes[1].next = listBNodes[2]\n",
    "listBNodes[2].next = listBNodes[3]\n",
    "listBNodes[3].next = listCNodes[0]\n",
    "\n",
    "\n",
    "# Intersection = C5\n",
    "solution = Solution()\n",
    "intersectNode = solution.getIntersectionNode(listANodes[0], listBNodes[0])\n",
    "print(intersectNode.val)\n",
    "\n",
    "# No Intersection\n",
    "listBNodes[3].next = None\n",
    "intersectNode = solution.getIntersectionNode(listANodes[0], listBNodes[0])\n",
    "print(intersectNode)\n",
    "\n",
    "# Unequal and share the last node only\n",
    "listANodes[1].next = listCNodes[3]\n",
    "listBNodes[3].next = listCNodes[3]\n",
    "intersectNode = solution.getIntersectionNode(listANodes[0], listBNodes[0])\n",
    "print(intersectNode.val)\n",
    "\n"
   ]
  },
  {
   "cell_type": "code",
   "execution_count": null,
   "metadata": {},
   "outputs": [],
   "source": []
  }
 ],
 "metadata": {
  "kernelspec": {
   "display_name": "Python 3",
   "language": "python",
   "name": "python3"
  },
  "language_info": {
   "codemirror_mode": {
    "name": "ipython",
    "version": 3
   },
   "file_extension": ".py",
   "mimetype": "text/x-python",
   "name": "python",
   "nbconvert_exporter": "python",
   "pygments_lexer": "ipython3",
   "version": "3.7.0"
  }
 },
 "nbformat": 4,
 "nbformat_minor": 4
}
