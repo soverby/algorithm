{
 "cells": [
  {
   "cell_type": "markdown",
   "metadata": {},
   "source": [
    "# Reverse a Linked List\n",
    "\n"
   ]
  },
  {
   "cell_type": "code",
   "execution_count": 3,
   "metadata": {},
   "outputs": [
    {
     "name": "stdout",
     "output_type": "stream",
     "text": [
      "5\n",
      "4\n",
      "3\n",
      "2\n",
      "1\n"
     ]
    }
   ],
   "source": [
    "class ListNode:\n",
    "    def __init__(self, val):\n",
    "        self.val = val\n",
    "        self.next = None\n",
    "        \n",
    "class Solution:\n",
    "    def reverse_linked_list(self, head):\n",
    "        \n",
    "        # Also didnn't handle the empty case the first time...\n",
    "        if head == None:\n",
    "            return None\n",
    "        \n",
    "        next_node = head.next\n",
    "        # First time I did this I forgot to set Head to None...caused a loop in the linked list. Oops. \n",
    "        head.next = None\n",
    "        \n",
    "        while next_node != None:\n",
    "            next_next_node = next_node.next            \n",
    "            next_node.next = head\n",
    "            head = next_node\n",
    "            next_node = next_next_node\n",
    "        \n",
    "        return head\n",
    "    \n",
    "    \n",
    "        \n",
    "solution = Solution()\n",
    "\n",
    "list_nodes = [ListNode('1'), ListNode('2'), ListNode('3'), ListNode('4'), ListNode('5')]\n",
    "\n",
    "list_nodes[0].next = list_nodes[1]\n",
    "list_nodes[1].next = list_nodes[2]\n",
    "list_nodes[2].next = list_nodes[3]\n",
    "list_nodes[3].next = list_nodes[4]\n",
    "\n",
    "head = solution.reverse_linked_list(list_nodes[0])\n",
    "\n",
    "while head != None:\n",
    "    print(head.val)\n",
    "    head = head.next\n",
    "    \n"
   ]
  },
  {
   "cell_type": "code",
   "execution_count": null,
   "metadata": {},
   "outputs": [],
   "source": []
  }
 ],
 "metadata": {
  "kernelspec": {
   "display_name": "Python 3",
   "language": "python",
   "name": "python3"
  },
  "language_info": {
   "codemirror_mode": {
    "name": "ipython",
    "version": 3
   },
   "file_extension": ".py",
   "mimetype": "text/x-python",
   "name": "python",
   "nbconvert_exporter": "python",
   "pygments_lexer": "ipython3",
   "version": "3.7.0"
  }
 },
 "nbformat": 4,
 "nbformat_minor": 4
}
