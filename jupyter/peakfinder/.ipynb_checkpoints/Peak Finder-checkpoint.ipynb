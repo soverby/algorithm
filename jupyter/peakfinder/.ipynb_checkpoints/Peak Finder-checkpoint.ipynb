{
 "cells": [
  {
   "cell_type": "markdown",
   "metadata": {},
   "source": [
    "# Peak Finding - 1 dimension\n",
    "\n",
    "Find peaks in an unsorted array. A peak is identifed as A[i] where A[i-1] < A[i] > A[i+1]. For the extreme left and right nodes (at position 0 and position n-1), the adjecent node is considered to have the value -∞. \n",
    "\n",
    "What's interesting about this one is that while the brute force method works in linear time, it's possible to solve this in log time using a binary search approach. I struggled a bit with the *why* on this one. Implementing it is easy, but why does it work? \n",
    "\n",
    "Visualising the possible scenarios helped me grok why binary search works.  "
   ]
  },
  {
   "cell_type": "markdown",
   "metadata": {},
   "source": [
    "There are 4 basic modes in a size n array:\n",
    "\n",
    "Node n - 1 is the peak in an ascending array: ![node - 1](image/node_n_peak.png)\n",
    "\n",
    "Node 0 is the peak in a descending array: ![node 0](image/node_0_peak.png)\n",
    "\n",
    "In a one peak array, no matter which index you choose to start the same rule works: split the array and analyze the half of the array in the \"greater\" direction from your index unless current index itself is a peak. If the left index is > split left, if the right index is > then split right: ![one peak](image/one_peak.png)\n",
    "\n",
    "In a multi-peak array the same holds true, no matter where you start from as long as you go towards the ascending adjacent node, you will find a peak. This holds true even if your index is the lowest node between two peaks, in that case both left and right directions are ascending, it doesn't matter which one you pick, you will find a peak in that direction. ![multi-peak](image/multi-peaks.png)"
   ]
  },
  {
   "cell_type": "code",
   "execution_count": 31,
   "metadata": {},
   "outputs": [
    {
     "name": "stdout",
     "output_type": "stream",
     "text": [
      "low:  0 , mid:  4 , high:  8\n",
      "low:  0 , mid:  2 , high:  3\n",
      "17\n"
     ]
    }
   ],
   "source": [
    "import math as m \n",
    "\n",
    "def peakfinder(arr):\n",
    "    n = len(arr)\n",
    "    \n",
    "    if n == 0:\n",
    "        return -1\n",
    "    \n",
    "    index = m.ceil(n / 2)\n",
    "    \n",
    "    low = 0\n",
    "    high = n - 1\n",
    "    \n",
    "    while(low < high):\n",
    "        mid = low + m.ceil( (high - low) / 2)\n",
    "        \n",
    "        if mid == low or mid == high:\n",
    "            if arr[low] < arr[high]:\n",
    "                return arr[high]\n",
    "            else:\n",
    "                return arr[low]\n",
    "            \n",
    "        print(\"low: \", low, \", mid: \", mid, \", high: \", high)\n",
    "        \n",
    "        if arr[mid - 1] < arr[mid] > arr[mid + 1]:\n",
    "            return arr[mid]\n",
    "        if arr[mid + 1] > arr[mid]:\n",
    "            low = mid + 1\n",
    "        else:\n",
    "            high = mid - 1\n",
    "\n",
    "    return arr[low]\n",
    "            \n",
    "arr = [ 12, 15, 17, 14, 11, 8, 13, 16, 22]\n",
    "print(peakfinder(arr))"
   ]
  },
  {
   "cell_type": "code",
   "execution_count": 18,
   "metadata": {},
   "outputs": [
    {
     "name": "stdout",
     "output_type": "stream",
     "text": [
      "low:  0 , mid:  1 , high:  2\n",
      "low:  2 , mid:  1 , high:  2\n",
      "3\n"
     ]
    }
   ],
   "source": [
    "arr = [1, 2, 3]\n",
    "print(peakfinder(arr))"
   ]
  },
  {
   "cell_type": "code",
   "execution_count": 29,
   "metadata": {},
   "outputs": [
    {
     "name": "stdout",
     "output_type": "stream",
     "text": [
      "2\n"
     ]
    }
   ],
   "source": [
    "arr = [1, 2]\n",
    "print(peakfinder(arr))\n"
   ]
  },
  {
   "cell_type": "code",
   "execution_count": 28,
   "metadata": {},
   "outputs": [
    {
     "name": "stdout",
     "output_type": "stream",
     "text": [
      "2\n"
     ]
    }
   ],
   "source": [
    "arr = [2, 1]\n",
    "print(peakfinder(arr))"
   ]
  },
  {
   "cell_type": "code",
   "execution_count": 33,
   "metadata": {},
   "outputs": [
    {
     "name": "stdout",
     "output_type": "stream",
     "text": [
      "1\n"
     ]
    }
   ],
   "source": [
    "arr = [1]\n",
    "print(peakfinder(arr))"
   ]
  },
  {
   "cell_type": "code",
   "execution_count": 32,
   "metadata": {},
   "outputs": [
    {
     "name": "stdout",
     "output_type": "stream",
     "text": [
      "-1\n"
     ]
    }
   ],
   "source": [
    "arr = []\n",
    "print(peakfinder(arr))"
   ]
  },
  {
   "cell_type": "code",
   "execution_count": null,
   "metadata": {},
   "outputs": [],
   "source": []
  }
 ],
 "metadata": {
  "kernelspec": {
   "display_name": "Python 3",
   "language": "python",
   "name": "python3"
  },
  "language_info": {
   "codemirror_mode": {
    "name": "ipython",
    "version": 3
   },
   "file_extension": ".py",
   "mimetype": "text/x-python",
   "name": "python",
   "nbconvert_exporter": "python",
   "pygments_lexer": "ipython3",
   "version": "3.7.0"
  }
 },
 "nbformat": 4,
 "nbformat_minor": 4
}
